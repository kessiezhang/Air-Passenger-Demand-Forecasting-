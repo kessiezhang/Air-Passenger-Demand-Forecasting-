{
 "cells": [
  {
   "cell_type": "code",
   "execution_count": 6,
   "metadata": {},
   "outputs": [],
   "source": [
    "import pandas as pd\n",
    "import numpy as np\n",
    "import statsmodels.api as sm\n",
    "import statsmodels.formula.api as smf\n",
    "import patsy\n",
    "# sns.set(rc={'figure.figsize':(11.7,8.27)})\n",
    "# sns.set(context='notebook', style='darkgrid',palette='deep', font='sans-serif', font_scale=1, color_codes=False, rc=None)\n",
    "\n",
    "import seaborn as sns\n",
    "import matplotlib.pyplot as plt\n",
    "from sklearn.linear_model import LinearRegression\n",
    "from sklearn.linear_model import RidgeCV\n",
    "import scipy.stats as stats\n",
    "%matplotlib inline\n",
    "pd.set_option('display.float_format', lambda x: '%.3f' % x)"
   ]
  },
  {
   "cell_type": "code",
   "execution_count": 8,
   "metadata": {},
   "outputs": [],
   "source": [
    "df1=pd.read_csv('passengers_data/T100D_SEGMENT_US_CARRIER_ONLY.csv')\n",
    "df2=pd.read_csv('passengers_data/T100D_SEGMENT_US_CARRIER_ONLY2.csv')\n",
    "df3=pd.read_csv('passengers_data/T100D_SEGMENT_US_CARRIER_ONLY3.csv')\n",
    "df4=pd.read_csv('passengers_data/T100D_SEGMENT_US_CARRIER_ONLY4.csv')\n",
    "df5=pd.read_csv('passengers_data/T100D_SEGMENT_US_CARRIER_ONLY5.csv')\n",
    "df6=pd.read_csv('passengers_data/T100D_SEGMENT_US_CARRIER_ONLY6.csv')\n",
    "df7=pd.read_csv('passengers_data/T100D_SEGMENT_US_CARRIER_ONLY7.csv')\n",
    "df8=pd.read_csv('passengers_data/T100D_SEGMENT_US_CARRIER_ONLY8.csv')\n",
    "df9=pd.read_csv('passengers_data/T100D_SEGMENT_US_CARRIER_ONLY9.csv')\n",
    "df10=pd.read_csv('passengers_data/T100D_SEGMENT_US_CARRIER_ONLY10.csv')"
   ]
  },
  {
   "cell_type": "code",
   "execution_count": 9,
   "metadata": {},
   "outputs": [],
   "source": [
    "df = pd.concat([df1,df2,df3,df4,df5,df6,df7,df8,df9,df10])"
   ]
  },
  {
   "cell_type": "code",
   "execution_count": 10,
   "metadata": {},
   "outputs": [
    {
     "data": {
      "text/plain": [
       "(3620968, 46)"
      ]
     },
     "execution_count": 10,
     "metadata": {},
     "output_type": "execute_result"
    }
   ],
   "source": [
    "df.shape"
   ]
  },
  {
   "cell_type": "code",
   "execution_count": 11,
   "metadata": {
    "scrolled": true
   },
   "outputs": [
    {
     "data": {
      "text/plain": [
       "(3620968, 46)"
      ]
     },
     "execution_count": 11,
     "metadata": {},
     "output_type": "execute_result"
    }
   ],
   "source": [
    "df.shape"
   ]
  },
  {
   "cell_type": "code",
   "execution_count": 12,
   "metadata": {},
   "outputs": [],
   "source": [
    "df.drop('Unnamed: 45', axis=1, inplace= True)"
   ]
  },
  {
   "cell_type": "code",
   "execution_count": 13,
   "metadata": {},
   "outputs": [
    {
     "data": {
      "text/html": [
       "<div>\n",
       "<style scoped>\n",
       "    .dataframe tbody tr th:only-of-type {\n",
       "        vertical-align: middle;\n",
       "    }\n",
       "\n",
       "    .dataframe tbody tr th {\n",
       "        vertical-align: top;\n",
       "    }\n",
       "\n",
       "    .dataframe thead th {\n",
       "        text-align: right;\n",
       "    }\n",
       "</style>\n",
       "<table border=\"1\" class=\"dataframe\">\n",
       "  <thead>\n",
       "    <tr style=\"text-align: right;\">\n",
       "      <th></th>\n",
       "      <th>DEPARTURES_SCHEDULED</th>\n",
       "      <th>DEPARTURES_PERFORMED</th>\n",
       "      <th>PAYLOAD</th>\n",
       "      <th>SEATS</th>\n",
       "      <th>PASSENGERS</th>\n",
       "      <th>FREIGHT</th>\n",
       "      <th>MAIL</th>\n",
       "      <th>DISTANCE</th>\n",
       "      <th>RAMP_TO_RAMP</th>\n",
       "      <th>AIR_TIME</th>\n",
       "      <th>...</th>\n",
       "      <th>DEST_CITY_MARKET_ID</th>\n",
       "      <th>DEST_STATE_FIPS</th>\n",
       "      <th>DEST_WAC</th>\n",
       "      <th>AIRCRAFT_GROUP</th>\n",
       "      <th>AIRCRAFT_TYPE</th>\n",
       "      <th>AIRCRAFT_CONFIG</th>\n",
       "      <th>YEAR</th>\n",
       "      <th>QUARTER</th>\n",
       "      <th>MONTH</th>\n",
       "      <th>DISTANCE_GROUP</th>\n",
       "    </tr>\n",
       "  </thead>\n",
       "  <tbody>\n",
       "    <tr>\n",
       "      <th>count</th>\n",
       "      <td>3620968.000</td>\n",
       "      <td>3620968.000</td>\n",
       "      <td>3620968.000</td>\n",
       "      <td>3620968.000</td>\n",
       "      <td>3620968.000</td>\n",
       "      <td>3620968.000</td>\n",
       "      <td>3620968.000</td>\n",
       "      <td>3620968.000</td>\n",
       "      <td>3620968.000</td>\n",
       "      <td>3620968.000</td>\n",
       "      <td>...</td>\n",
       "      <td>3620968.000</td>\n",
       "      <td>3620968.000</td>\n",
       "      <td>3620968.000</td>\n",
       "      <td>3620968.000</td>\n",
       "      <td>3620968.000</td>\n",
       "      <td>3620968.000</td>\n",
       "      <td>3620968.000</td>\n",
       "      <td>3620968.000</td>\n",
       "      <td>3620968.000</td>\n",
       "      <td>3620968.000</td>\n",
       "    </tr>\n",
       "    <tr>\n",
       "      <th>mean</th>\n",
       "      <td>23.833</td>\n",
       "      <td>24.806</td>\n",
       "      <td>738521.505</td>\n",
       "      <td>2425.052</td>\n",
       "      <td>1959.020</td>\n",
       "      <td>61020.848</td>\n",
       "      <td>2843.641</td>\n",
       "      <td>655.535</td>\n",
       "      <td>2955.946</td>\n",
       "      <td>2414.965</td>\n",
       "      <td>...</td>\n",
       "      <td>32021.749</td>\n",
       "      <td>24.113</td>\n",
       "      <td>44.848</td>\n",
       "      <td>5.260</td>\n",
       "      <td>574.511</td>\n",
       "      <td>1.211</td>\n",
       "      <td>2014.621</td>\n",
       "      <td>2.516</td>\n",
       "      <td>6.559</td>\n",
       "      <td>1.876</td>\n",
       "    </tr>\n",
       "    <tr>\n",
       "      <th>std</th>\n",
       "      <td>41.979</td>\n",
       "      <td>39.864</td>\n",
       "      <td>1390640.256</td>\n",
       "      <td>4882.867</td>\n",
       "      <td>4049.662</td>\n",
       "      <td>376426.009</td>\n",
       "      <td>23526.255</td>\n",
       "      <td>599.277</td>\n",
       "      <td>5225.715</td>\n",
       "      <td>4441.148</td>\n",
       "      <td>...</td>\n",
       "      <td>1487.618</td>\n",
       "      <td>17.922</td>\n",
       "      <td>30.190</td>\n",
       "      <td>1.731</td>\n",
       "      <td>180.048</td>\n",
       "      <td>0.535</td>\n",
       "      <td>2.880</td>\n",
       "      <td>1.114</td>\n",
       "      <td>3.446</td>\n",
       "      <td>1.165</td>\n",
       "    </tr>\n",
       "    <tr>\n",
       "      <th>min</th>\n",
       "      <td>0.000</td>\n",
       "      <td>0.000</td>\n",
       "      <td>0.000</td>\n",
       "      <td>0.000</td>\n",
       "      <td>0.000</td>\n",
       "      <td>0.000</td>\n",
       "      <td>0.000</td>\n",
       "      <td>0.000</td>\n",
       "      <td>0.000</td>\n",
       "      <td>0.000</td>\n",
       "      <td>...</td>\n",
       "      <td>30003.000</td>\n",
       "      <td>1.000</td>\n",
       "      <td>1.000</td>\n",
       "      <td>0.000</td>\n",
       "      <td>10.000</td>\n",
       "      <td>1.000</td>\n",
       "      <td>2010.000</td>\n",
       "      <td>1.000</td>\n",
       "      <td>1.000</td>\n",
       "      <td>1.000</td>\n",
       "    </tr>\n",
       "    <tr>\n",
       "      <th>25%</th>\n",
       "      <td>0.000</td>\n",
       "      <td>1.000</td>\n",
       "      <td>32200.000</td>\n",
       "      <td>45.000</td>\n",
       "      <td>8.000</td>\n",
       "      <td>0.000</td>\n",
       "      <td>0.000</td>\n",
       "      <td>201.000</td>\n",
       "      <td>142.000</td>\n",
       "      <td>115.000</td>\n",
       "      <td>...</td>\n",
       "      <td>30783.000</td>\n",
       "      <td>6.000</td>\n",
       "      <td>22.000</td>\n",
       "      <td>6.000</td>\n",
       "      <td>612.000</td>\n",
       "      <td>1.000</td>\n",
       "      <td>2012.000</td>\n",
       "      <td>2.000</td>\n",
       "      <td>4.000</td>\n",
       "      <td>1.000</td>\n",
       "    </tr>\n",
       "    <tr>\n",
       "      <th>50%</th>\n",
       "      <td>5.000</td>\n",
       "      <td>9.000</td>\n",
       "      <td>176479.000</td>\n",
       "      <td>343.000</td>\n",
       "      <td>237.000</td>\n",
       "      <td>0.000</td>\n",
       "      <td>0.000</td>\n",
       "      <td>501.000</td>\n",
       "      <td>816.000</td>\n",
       "      <td>645.000</td>\n",
       "      <td>...</td>\n",
       "      <td>31650.000</td>\n",
       "      <td>22.000</td>\n",
       "      <td>41.000</td>\n",
       "      <td>6.000</td>\n",
       "      <td>629.000</td>\n",
       "      <td>1.000</td>\n",
       "      <td>2015.000</td>\n",
       "      <td>3.000</td>\n",
       "      <td>7.000</td>\n",
       "      <td>2.000</td>\n",
       "    </tr>\n",
       "    <tr>\n",
       "      <th>75%</th>\n",
       "      <td>31.000</td>\n",
       "      <td>31.000</td>\n",
       "      <td>919540.000</td>\n",
       "      <td>2950.000</td>\n",
       "      <td>2294.000</td>\n",
       "      <td>1804.000</td>\n",
       "      <td>0.000</td>\n",
       "      <td>931.000</td>\n",
       "      <td>3851.000</td>\n",
       "      <td>3021.000</td>\n",
       "      <td>...</td>\n",
       "      <td>33192.000</td>\n",
       "      <td>39.000</td>\n",
       "      <td>74.000</td>\n",
       "      <td>6.000</td>\n",
       "      <td>675.000</td>\n",
       "      <td>1.000</td>\n",
       "      <td>2017.000</td>\n",
       "      <td>4.000</td>\n",
       "      <td>10.000</td>\n",
       "      <td>2.000</td>\n",
       "    </tr>\n",
       "    <tr>\n",
       "      <th>max</th>\n",
       "      <td>2361.000</td>\n",
       "      <td>1330.000</td>\n",
       "      <td>36450000.000</td>\n",
       "      <td>110336.000</td>\n",
       "      <td>95777.000</td>\n",
       "      <td>23905955.000</td>\n",
       "      <td>8163150.000</td>\n",
       "      <td>8253.000</td>\n",
       "      <td>895725.000</td>\n",
       "      <td>180007.000</td>\n",
       "      <td>...</td>\n",
       "      <td>36843.000</td>\n",
       "      <td>78.000</td>\n",
       "      <td>93.000</td>\n",
       "      <td>8.000</td>\n",
       "      <td>889.000</td>\n",
       "      <td>4.000</td>\n",
       "      <td>2019.000</td>\n",
       "      <td>4.000</td>\n",
       "      <td>12.000</td>\n",
       "      <td>17.000</td>\n",
       "    </tr>\n",
       "  </tbody>\n",
       "</table>\n",
       "<p>8 rows × 30 columns</p>\n",
       "</div>"
      ],
      "text/plain": [
       "       DEPARTURES_SCHEDULED  DEPARTURES_PERFORMED      PAYLOAD       SEATS  \\\n",
       "count           3620968.000           3620968.000  3620968.000 3620968.000   \n",
       "mean                 23.833                24.806   738521.505    2425.052   \n",
       "std                  41.979                39.864  1390640.256    4882.867   \n",
       "min                   0.000                 0.000        0.000       0.000   \n",
       "25%                   0.000                 1.000    32200.000      45.000   \n",
       "50%                   5.000                 9.000   176479.000     343.000   \n",
       "75%                  31.000                31.000   919540.000    2950.000   \n",
       "max                2361.000              1330.000 36450000.000  110336.000   \n",
       "\n",
       "       PASSENGERS      FREIGHT        MAIL    DISTANCE  RAMP_TO_RAMP  \\\n",
       "count 3620968.000  3620968.000 3620968.000 3620968.000   3620968.000   \n",
       "mean     1959.020    61020.848    2843.641     655.535      2955.946   \n",
       "std      4049.662   376426.009   23526.255     599.277      5225.715   \n",
       "min         0.000        0.000       0.000       0.000         0.000   \n",
       "25%         8.000        0.000       0.000     201.000       142.000   \n",
       "50%       237.000        0.000       0.000     501.000       816.000   \n",
       "75%      2294.000     1804.000       0.000     931.000      3851.000   \n",
       "max     95777.000 23905955.000 8163150.000    8253.000    895725.000   \n",
       "\n",
       "         AIR_TIME  ...  DEST_CITY_MARKET_ID  DEST_STATE_FIPS    DEST_WAC  \\\n",
       "count 3620968.000  ...          3620968.000      3620968.000 3620968.000   \n",
       "mean     2414.965  ...            32021.749           24.113      44.848   \n",
       "std      4441.148  ...             1487.618           17.922      30.190   \n",
       "min         0.000  ...            30003.000            1.000       1.000   \n",
       "25%       115.000  ...            30783.000            6.000      22.000   \n",
       "50%       645.000  ...            31650.000           22.000      41.000   \n",
       "75%      3021.000  ...            33192.000           39.000      74.000   \n",
       "max    180007.000  ...            36843.000           78.000      93.000   \n",
       "\n",
       "       AIRCRAFT_GROUP  AIRCRAFT_TYPE  AIRCRAFT_CONFIG        YEAR     QUARTER  \\\n",
       "count     3620968.000    3620968.000      3620968.000 3620968.000 3620968.000   \n",
       "mean            5.260        574.511            1.211    2014.621       2.516   \n",
       "std             1.731        180.048            0.535       2.880       1.114   \n",
       "min             0.000         10.000            1.000    2010.000       1.000   \n",
       "25%             6.000        612.000            1.000    2012.000       2.000   \n",
       "50%             6.000        629.000            1.000    2015.000       3.000   \n",
       "75%             6.000        675.000            1.000    2017.000       4.000   \n",
       "max             8.000        889.000            4.000    2019.000       4.000   \n",
       "\n",
       "            MONTH  DISTANCE_GROUP  \n",
       "count 3620968.000     3620968.000  \n",
       "mean        6.559           1.876  \n",
       "std         3.446           1.165  \n",
       "min         1.000           1.000  \n",
       "25%         4.000           1.000  \n",
       "50%         7.000           2.000  \n",
       "75%        10.000           2.000  \n",
       "max        12.000          17.000  \n",
       "\n",
       "[8 rows x 30 columns]"
      ]
     },
     "execution_count": 13,
     "metadata": {},
     "output_type": "execute_result"
    }
   ],
   "source": [
    "df.describe()"
   ]
  },
  {
   "cell_type": "code",
   "execution_count": 14,
   "metadata": {
    "scrolled": false
   },
   "outputs": [
    {
     "data": {
      "text/plain": [
       "Index(['DEPARTURES_SCHEDULED', 'DEPARTURES_PERFORMED', 'PAYLOAD', 'SEATS',\n",
       "       'PASSENGERS', 'FREIGHT', 'MAIL', 'DISTANCE', 'RAMP_TO_RAMP', 'AIR_TIME',\n",
       "       'UNIQUE_CARRIER', 'AIRLINE_ID', 'UNIQUE_CARRIER_NAME',\n",
       "       'UNIQUE_CARRIER_ENTITY', 'REGION', 'CARRIER', 'CARRIER_NAME',\n",
       "       'CARRIER_GROUP', 'CARRIER_GROUP_NEW', 'ORIGIN_AIRPORT_ID',\n",
       "       'ORIGIN_AIRPORT_SEQ_ID', 'ORIGIN_CITY_MARKET_ID', 'ORIGIN',\n",
       "       'ORIGIN_CITY_NAME', 'ORIGIN_STATE_ABR', 'ORIGIN_STATE_FIPS',\n",
       "       'ORIGIN_STATE_NM', 'ORIGIN_WAC', 'DEST_AIRPORT_ID',\n",
       "       'DEST_AIRPORT_SEQ_ID', 'DEST_CITY_MARKET_ID', 'DEST', 'DEST_CITY_NAME',\n",
       "       'DEST_STATE_ABR', 'DEST_STATE_FIPS', 'DEST_STATE_NM', 'DEST_WAC',\n",
       "       'AIRCRAFT_GROUP', 'AIRCRAFT_TYPE', 'AIRCRAFT_CONFIG', 'YEAR', 'QUARTER',\n",
       "       'MONTH', 'DISTANCE_GROUP', 'CLASS'],\n",
       "      dtype='object')"
      ]
     },
     "execution_count": 14,
     "metadata": {},
     "output_type": "execute_result"
    }
   ],
   "source": [
    "df.columns"
   ]
  },
  {
   "cell_type": "markdown",
   "metadata": {},
   "source": [
    "## Exploratory Data Analysis"
   ]
  },
  {
   "cell_type": "code",
   "execution_count": 15,
   "metadata": {},
   "outputs": [
    {
     "data": {
      "text/plain": [
       "614    260361\n",
       "694    222488\n",
       "629    218649\n",
       "612    212370\n",
       "416    187638\n",
       "Name: AIRCRAFT_TYPE, dtype: int64"
      ]
     },
     "execution_count": 15,
     "metadata": {},
     "output_type": "execute_result"
    }
   ],
   "source": [
    "df.AIRCRAFT_TYPE.value_counts().head()\n",
    "#614: Boeing 737-800\n",
    "#612: Boeing 737-700/700LR/Max 7\n",
    "#694: Airbus Industrie A320-100/200\n",
    "#629: Canadair RJ-200ER /RJ-440\n",
    "#416: Cessna 208 Caravan"
   ]
  },
  {
   "cell_type": "code",
   "execution_count": 16,
   "metadata": {
    "scrolled": true
   },
   "outputs": [
    {
     "data": {
      "text/plain": [
       "Index(['DEPARTURES_SCHEDULED', 'DEPARTURES_PERFORMED', 'PAYLOAD', 'SEATS',\n",
       "       'PASSENGERS', 'FREIGHT', 'MAIL', 'DISTANCE', 'RAMP_TO_RAMP', 'AIR_TIME',\n",
       "       'UNIQUE_CARRIER', 'AIRLINE_ID', 'UNIQUE_CARRIER_NAME',\n",
       "       'UNIQUE_CARRIER_ENTITY', 'REGION', 'CARRIER', 'CARRIER_NAME',\n",
       "       'CARRIER_GROUP', 'CARRIER_GROUP_NEW', 'ORIGIN_AIRPORT_ID',\n",
       "       'ORIGIN_AIRPORT_SEQ_ID', 'ORIGIN_CITY_MARKET_ID', 'ORIGIN',\n",
       "       'ORIGIN_CITY_NAME', 'ORIGIN_STATE_ABR', 'ORIGIN_STATE_FIPS',\n",
       "       'ORIGIN_STATE_NM', 'ORIGIN_WAC', 'DEST_AIRPORT_ID',\n",
       "       'DEST_AIRPORT_SEQ_ID', 'DEST_CITY_MARKET_ID', 'DEST', 'DEST_CITY_NAME',\n",
       "       'DEST_STATE_ABR', 'DEST_STATE_FIPS', 'DEST_STATE_NM', 'DEST_WAC',\n",
       "       'AIRCRAFT_GROUP', 'AIRCRAFT_TYPE', 'AIRCRAFT_CONFIG', 'YEAR', 'QUARTER',\n",
       "       'MONTH', 'DISTANCE_GROUP', 'CLASS'],\n",
       "      dtype='object')"
      ]
     },
     "execution_count": 16,
     "metadata": {},
     "output_type": "execute_result"
    }
   ],
   "source": [
    "df.columns"
   ]
  },
  {
   "cell_type": "code",
   "execution_count": 17,
   "metadata": {
    "scrolled": true
   },
   "outputs": [
    {
     "data": {
      "text/plain": [
       "<matplotlib.axes._subplots.AxesSubplot at 0x10d5e0710>"
      ]
     },
     "execution_count": 17,
     "metadata": {},
     "output_type": "execute_result"
    },
    {
     "data": {
      "image/png": "[encoded data removed]",
      "text/plain": [
       "<Figure size 432x288 with 1 Axes>"
      ]
     },
     "metadata": {
      "needs_background": "light"
     },
     "output_type": "display_data"
    }
   ],
   "source": [
    "#Top 10 Carrier in general\n",
    "df['UNIQUE_CARRIER'].value_counts().head(10).plot(kind='bar')"
   ]
  },
  {
   "cell_type": "code",
   "execution_count": 18,
   "metadata": {
    "scrolled": true
   },
   "outputs": [
    {
     "data": {
      "text/plain": [
       "<matplotlib.axes._subplots.AxesSubplot at 0x10e1b69e8>"
      ]
     },
     "execution_count": 18,
     "metadata": {},
     "output_type": "execute_result"
    },
    {
     "data": {
      "image/png": "[encoded data removed]",
      "text/plain": [
       "<Figure size 432x288 with 1 Axes>"
      ]
     },
     "metadata": {
      "needs_background": "light"
     },
     "output_type": "display_data"
    }
   ],
   "source": [
    "#Top 10 Carrier that has the most passengers\n",
    "df.groupby(['UNIQUE_CARRIER']).sum()['PASSENGERS'].sort_values(ascending=False).head(10).plot(kind='bar')"
   ]
  },
  {
   "cell_type": "code",
   "execution_count": 19,
   "metadata": {
    "scrolled": true
   },
   "outputs": [
    {
     "data": {
      "text/plain": [
       "<matplotlib.axes._subplots.AxesSubplot at 0x10e3b0198>"
      ]
     },
     "execution_count": 19,
     "metadata": {},
     "output_type": "execute_result"
    },
    {
     "data": {
      "image/png": "[encoded data removed]",
      "text/plain": [
       "<Figure size 432x288 with 1 Axes>"
      ]
     },
     "metadata": {
      "needs_background": "light"
     },
     "output_type": "display_data"
    }
   ],
   "source": [
    "#Top 10 Carrier that has the most freight\n",
    "df.groupby(['UNIQUE_CARRIER']).sum()['FREIGHT'].sort_values(ascending=False).head(10).plot(kind='bar')"
   ]
  },
  {
   "cell_type": "code",
   "execution_count": 20,
   "metadata": {},
   "outputs": [
    {
     "data": {
      "text/plain": [
       "<matplotlib.axes._subplots.AxesSubplot at 0x10e5c8e48>"
      ]
     },
     "execution_count": 20,
     "metadata": {},
     "output_type": "execute_result"
    },
    {
     "data": {
      "image/png": "[encoded data removed]",
      "text/plain": [
       "<Figure size 432x288 with 1 Axes>"
      ]
     },
     "metadata": {
      "needs_background": "light"
     },
     "output_type": "display_data"
    }
   ],
   "source": [
    "#Top 10 Carrier that has the most freight\n",
    "df.groupby(['UNIQUE_CARRIER']).sum()['MAIL'].sort_values(ascending=False).head(10).plot(kind='bar')"
   ]
  },
  {
   "cell_type": "code",
   "execution_count": 21,
   "metadata": {
    "scrolled": true
   },
   "outputs": [],
   "source": [
    "#TOP 10 airlines that have most flights\n",
    "top_10_airline=df['UNIQUE_CARRIER'].value_counts().head(10).index.tolist()"
   ]
  },
  {
   "cell_type": "code",
   "execution_count": 22,
   "metadata": {},
   "outputs": [],
   "source": [
    "top_airline_df=df[df['UNIQUE_CARRIER'].isin((top_10_airline))]"
   ]
  },
  {
   "cell_type": "code",
   "execution_count": 23,
   "metadata": {
    "scrolled": false
   },
   "outputs": [
    {
     "data": {
      "text/html": [
       "<div>\n",
       "<style scoped>\n",
       "    .dataframe tbody tr th:only-of-type {\n",
       "        vertical-align: middle;\n",
       "    }\n",
       "\n",
       "    .dataframe tbody tr th {\n",
       "        vertical-align: top;\n",
       "    }\n",
       "\n",
       "    .dataframe thead th {\n",
       "        text-align: right;\n",
       "    }\n",
       "</style>\n",
       "<table border=\"1\" class=\"dataframe\">\n",
       "  <thead>\n",
       "    <tr style=\"text-align: right;\">\n",
       "      <th></th>\n",
       "      <th></th>\n",
       "      <th>DEPARTURES_SCHEDULED</th>\n",
       "      <th>DEPARTURES_PERFORMED</th>\n",
       "      <th>PAYLOAD</th>\n",
       "      <th>SEATS</th>\n",
       "      <th>PASSENGERS</th>\n",
       "      <th>FREIGHT</th>\n",
       "      <th>MAIL</th>\n",
       "      <th>DISTANCE</th>\n",
       "      <th>RAMP_TO_RAMP</th>\n",
       "      <th>AIR_TIME</th>\n",
       "      <th>...</th>\n",
       "      <th>DEST_AIRPORT_SEQ_ID</th>\n",
       "      <th>DEST_CITY_MARKET_ID</th>\n",
       "      <th>DEST_STATE_FIPS</th>\n",
       "      <th>DEST_WAC</th>\n",
       "      <th>AIRCRAFT_GROUP</th>\n",
       "      <th>AIRCRAFT_TYPE</th>\n",
       "      <th>AIRCRAFT_CONFIG</th>\n",
       "      <th>QUARTER</th>\n",
       "      <th>MONTH</th>\n",
       "      <th>DISTANCE_GROUP</th>\n",
       "    </tr>\n",
       "    <tr>\n",
       "      <th>UNIQUE_CARRIER</th>\n",
       "      <th>YEAR</th>\n",
       "      <th></th>\n",
       "      <th></th>\n",
       "      <th></th>\n",
       "      <th></th>\n",
       "      <th></th>\n",
       "      <th></th>\n",
       "      <th></th>\n",
       "      <th></th>\n",
       "      <th></th>\n",
       "      <th></th>\n",
       "      <th></th>\n",
       "      <th></th>\n",
       "      <th></th>\n",
       "      <th></th>\n",
       "      <th></th>\n",
       "      <th></th>\n",
       "      <th></th>\n",
       "      <th></th>\n",
       "      <th></th>\n",
       "      <th></th>\n",
       "      <th></th>\n",
       "    </tr>\n",
       "  </thead>\n",
       "  <tbody>\n",
       "    <tr>\n",
       "      <th rowspan=\"5\" valign=\"top\">AA</th>\n",
       "      <th>2010</th>\n",
       "      <td>543162.000</td>\n",
       "      <td>534179.000</td>\n",
       "      <td>22443355110.000</td>\n",
       "      <td>82012305.000</td>\n",
       "      <td>66542740.000</td>\n",
       "      <td>237078586.000</td>\n",
       "      <td>61342651.000</td>\n",
       "      <td>10104939.000</td>\n",
       "      <td>88567868.000</td>\n",
       "      <td>75951169.000</td>\n",
       "      <td>...</td>\n",
       "      <td>11574808786</td>\n",
       "      <td>285746072</td>\n",
       "      <td>257541</td>\n",
       "      <td>496599</td>\n",
       "      <td>54066</td>\n",
       "      <td>5708157</td>\n",
       "      <td>9011</td>\n",
       "      <td>22134</td>\n",
       "      <td>57577</td>\n",
       "      <td>25075</td>\n",
       "    </tr>\n",
       "    <tr>\n",
       "      <th>2011</th>\n",
       "      <td>540542.000</td>\n",
       "      <td>527116.000</td>\n",
       "      <td>21962258359.000</td>\n",
       "      <td>81222329.000</td>\n",
       "      <td>66080892.000</td>\n",
       "      <td>203631291.000</td>\n",
       "      <td>38955914.000</td>\n",
       "      <td>9624496.000</td>\n",
       "      <td>86877107.000</td>\n",
       "      <td>74700082.000</td>\n",
       "      <td>...</td>\n",
       "      <td>11129898354</td>\n",
       "      <td>275599945</td>\n",
       "      <td>250429</td>\n",
       "      <td>474271</td>\n",
       "      <td>52164</td>\n",
       "      <td>5495641</td>\n",
       "      <td>8694</td>\n",
       "      <td>21520</td>\n",
       "      <td>55827</td>\n",
       "      <td>24023</td>\n",
       "    </tr>\n",
       "    <tr>\n",
       "      <th>2012</th>\n",
       "      <td>527461.000</td>\n",
       "      <td>517971.000</td>\n",
       "      <td>21657625600.000</td>\n",
       "      <td>79858885.000</td>\n",
       "      <td>65694310.000</td>\n",
       "      <td>225434682.000</td>\n",
       "      <td>12680956.000</td>\n",
       "      <td>9164800.000</td>\n",
       "      <td>85499404.000</td>\n",
       "      <td>73188182.000</td>\n",
       "      <td>...</td>\n",
       "      <td>10586074308</td>\n",
       "      <td>262521725</td>\n",
       "      <td>239502</td>\n",
       "      <td>462408</td>\n",
       "      <td>49734</td>\n",
       "      <td>5234148</td>\n",
       "      <td>8289</td>\n",
       "      <td>20593</td>\n",
       "      <td>53507</td>\n",
       "      <td>22874</td>\n",
       "    </tr>\n",
       "    <tr>\n",
       "      <th>2013</th>\n",
       "      <td>540068.000</td>\n",
       "      <td>530412.000</td>\n",
       "      <td>22031434915.000</td>\n",
       "      <td>79268935.000</td>\n",
       "      <td>65547434.000</td>\n",
       "      <td>232549983.000</td>\n",
       "      <td>14784440.000</td>\n",
       "      <td>9262178.000</td>\n",
       "      <td>87849294.000</td>\n",
       "      <td>75163393.000</td>\n",
       "      <td>...</td>\n",
       "      <td>10888157069</td>\n",
       "      <td>270365192</td>\n",
       "      <td>252409</td>\n",
       "      <td>481057</td>\n",
       "      <td>51240</td>\n",
       "      <td>5390832</td>\n",
       "      <td>8540</td>\n",
       "      <td>21491</td>\n",
       "      <td>56003</td>\n",
       "      <td>23152</td>\n",
       "    </tr>\n",
       "    <tr>\n",
       "      <th>2014</th>\n",
       "      <td>540051.000</td>\n",
       "      <td>531688.000</td>\n",
       "      <td>21860476385.000</td>\n",
       "      <td>79557472.000</td>\n",
       "      <td>66744657.000</td>\n",
       "      <td>185993942.000</td>\n",
       "      <td>16913094.000</td>\n",
       "      <td>9306344.000</td>\n",
       "      <td>89711362.000</td>\n",
       "      <td>76319164.000</td>\n",
       "      <td>...</td>\n",
       "      <td>11193832941</td>\n",
       "      <td>278676021</td>\n",
       "      <td>259719</td>\n",
       "      <td>500222</td>\n",
       "      <td>52872</td>\n",
       "      <td>5593057</td>\n",
       "      <td>8812</td>\n",
       "      <td>22047</td>\n",
       "      <td>57333</td>\n",
       "      <td>23398</td>\n",
       "    </tr>\n",
       "  </tbody>\n",
       "</table>\n",
       "<p>5 rows × 29 columns</p>\n",
       "</div>"
      ],
      "text/plain": [
       "                     DEPARTURES_SCHEDULED  DEPARTURES_PERFORMED  \\\n",
       "UNIQUE_CARRIER YEAR                                               \n",
       "AA             2010            543162.000            534179.000   \n",
       "               2011            540542.000            527116.000   \n",
       "               2012            527461.000            517971.000   \n",
       "               2013            540068.000            530412.000   \n",
       "               2014            540051.000            531688.000   \n",
       "\n",
       "                            PAYLOAD        SEATS   PASSENGERS       FREIGHT  \\\n",
       "UNIQUE_CARRIER YEAR                                                           \n",
       "AA             2010 22443355110.000 82012305.000 66542740.000 237078586.000   \n",
       "               2011 21962258359.000 81222329.000 66080892.000 203631291.000   \n",
       "               2012 21657625600.000 79858885.000 65694310.000 225434682.000   \n",
       "               2013 22031434915.000 79268935.000 65547434.000 232549983.000   \n",
       "               2014 21860476385.000 79557472.000 66744657.000 185993942.000   \n",
       "\n",
       "                            MAIL     DISTANCE  RAMP_TO_RAMP     AIR_TIME  ...  \\\n",
       "UNIQUE_CARRIER YEAR                                                       ...   \n",
       "AA             2010 61342651.000 10104939.000  88567868.000 75951169.000  ...   \n",
       "               2011 38955914.000  9624496.000  86877107.000 74700082.000  ...   \n",
       "               2012 12680956.000  9164800.000  85499404.000 73188182.000  ...   \n",
       "               2013 14784440.000  9262178.000  87849294.000 75163393.000  ...   \n",
       "               2014 16913094.000  9306344.000  89711362.000 76319164.000  ...   \n",
       "\n",
       "                     DEST_AIRPORT_SEQ_ID  DEST_CITY_MARKET_ID  \\\n",
       "UNIQUE_CARRIER YEAR                                             \n",
       "AA             2010          11574808786            285746072   \n",
       "               2011          11129898354            275599945   \n",
       "               2012          10586074308            262521725   \n",
       "               2013          10888157069            270365192   \n",
       "               2014          11193832941            278676021   \n",
       "\n",
       "                     DEST_STATE_FIPS  DEST_WAC  AIRCRAFT_GROUP  AIRCRAFT_TYPE  \\\n",
       "UNIQUE_CARRIER YEAR                                                             \n",
       "AA             2010           257541    496599           54066        5708157   \n",
       "               2011           250429    474271           52164        5495641   \n",
       "               2012           239502    462408           49734        5234148   \n",
       "               2013           252409    481057           51240        5390832   \n",
       "               2014           259719    500222           52872        5593057   \n",
       "\n",
       "                     AIRCRAFT_CONFIG  QUARTER  MONTH  DISTANCE_GROUP  \n",
       "UNIQUE_CARRIER YEAR                                                   \n",
       "AA             2010             9011    22134  57577           25075  \n",
       "               2011             8694    21520  55827           24023  \n",
       "               2012             8289    20593  53507           22874  \n",
       "               2013             8540    21491  56003           23152  \n",
       "               2014             8812    22047  57333           23398  \n",
       "\n",
       "[5 rows x 29 columns]"
      ]
     },
     "execution_count": 23,
     "metadata": {},
     "output_type": "execute_result"
    }
   ],
   "source": [
    "top_airline_df.groupby(['UNIQUE_CARRIER','YEAR']).sum().head()"
   ]
  },
  {
   "cell_type": "code",
   "execution_count": 24,
   "metadata": {},
   "outputs": [
    {
     "data": {
      "text/plain": [
       "<matplotlib.axes._subplots.AxesSubplot at 0x1c1ce219e8>"
      ]
     },
     "execution_count": 24,
     "metadata": {},
     "output_type": "execute_result"
    },
    {
     "data": {
      "image/png": "[encoded data removed]",
      "text/plain": [
       "<Figure size 432x288 with 1 Axes>"
      ]
     },
     "metadata": {
      "needs_background": "light"
     },
     "output_type": "display_data"
    }
   ],
   "source": [
    "df.groupby('YEAR').sum()[['PASSENGERS','FREIGHT','MAIL']].plot()"
   ]
  },
  {
   "cell_type": "code",
   "execution_count": 25,
   "metadata": {
    "scrolled": true
   },
   "outputs": [
    {
     "data": {
      "text/plain": [
       "<matplotlib.axes._subplots.AxesSubplot at 0x10d6259b0>"
      ]
     },
     "execution_count": 25,
     "metadata": {},
     "output_type": "execute_result"
    },
    {
     "data": {
      "image/png": "[encoded data removed]",
      "text/plain": [
       "<Figure size 432x288 with 1 Axes>"
      ]
     },
     "metadata": {
      "needs_background": "light"
     },
     "output_type": "display_data"
    }
   ],
   "source": [
    "df[df['UNIQUE_CARRIER']=='AA'].groupby('YEAR').sum()[['PASSENGERS','FREIGHT','MAIL']].plot(kind='bar')"
   ]
  },
  {
   "cell_type": "code",
   "execution_count": 26,
   "metadata": {},
   "outputs": [
    {
     "data": {
      "text/plain": [
       "<matplotlib.axes._subplots.AxesSubplot at 0x1c1ce216a0>"
      ]
     },
     "execution_count": 26,
     "metadata": {},
     "output_type": "execute_result"
    },
    {
     "data": {
      "image/png": "[encoded data removed]",
      "text/plain": [
       "<Figure size 432x288 with 1 Axes>"
      ]
     },
     "metadata": {
      "needs_background": "light"
     },
     "output_type": "display_data"
    }
   ],
   "source": [
    "df.groupby('MONTH').sum()[['PASSENGERS','FREIGHT','MAIL']].plot(kind='bar')"
   ]
  },
  {
   "cell_type": "code",
   "execution_count": 27,
   "metadata": {
    "scrolled": true
   },
   "outputs": [
    {
     "data": {
      "text/plain": [
       "<matplotlib.axes._subplots.AxesSubplot at 0x1c1cf1c860>"
      ]
     },
     "execution_count": 27,
     "metadata": {},
     "output_type": "execute_result"
    },
    {
     "data": {
      "image/png": "[encoded data removed]",
      "text/plain": [
       "<Figure size 432x288 with 1 Axes>"
      ]
     },
     "metadata": {
      "needs_background": "light"
     },
     "output_type": "display_data"
    }
   ],
   "source": [
    "df.groupby('QUARTER').sum()[['PASSENGERS','FREIGHT','MAIL']].plot(kind='bar')"
   ]
  },
  {
   "cell_type": "code",
   "execution_count": 28,
   "metadata": {
    "scrolled": false
   },
   "outputs": [
    {
     "data": {
      "text/plain": [
       "<matplotlib.axes._subplots.AxesSubplot at 0x1c1d4f5b00>"
      ]
     },
     "execution_count": 28,
     "metadata": {},
     "output_type": "execute_result"
    },
    {
     "data": {
      "image/png": "[encoded data removed]",
      "text/plain": [
       "<Figure size 432x288 with 1 Axes>"
      ]
     },
     "metadata": {
      "needs_background": "light"
     },
     "output_type": "display_data"
    }
   ],
   "source": [
    "df[df['UNIQUE_CARRIER']=='AA'].groupby('MONTH').sum()[\n",
    "    ['PASSENGERS','FREIGHT','MAIL']].plot(kind='bar') "
   ]
  },
  {
   "cell_type": "code",
   "execution_count": 29,
   "metadata": {},
   "outputs": [],
   "source": [
    "#Let's find the most popular destination airport "
   ]
  },
  {
   "cell_type": "code",
   "execution_count": 30,
   "metadata": {},
   "outputs": [
    {
     "data": {
      "text/plain": [
       "<matplotlib.axes._subplots.AxesSubplot at 0x1c1e136160>"
      ]
     },
     "execution_count": 30,
     "metadata": {},
     "output_type": "execute_result"
    },
    {
     "data": {
      "image/png": "[encoded data removed]",
      "text/plain": [
       "<Figure size 432x288 with 1 Axes>"
      ]
     },
     "metadata": {
      "needs_background": "light"
     },
     "output_type": "display_data"
    }
   ],
   "source": [
    "(top_airline_df.groupby('ORIGIN').sum()['PASSENGERS']\n",
    "                                         .sort_values(ascending=False)).head(10).plot(kind='bar')"
   ]
  },
  {
   "cell_type": "code",
   "execution_count": 31,
   "metadata": {},
   "outputs": [
    {
     "data": {
      "text/plain": [
       "<matplotlib.axes._subplots.AxesSubplot at 0x1c1e17a198>"
      ]
     },
     "execution_count": 31,
     "metadata": {},
     "output_type": "execute_result"
    },
    {
     "data": {
      "image/png": "[encoded data removed]",
      "text/plain": [
       "<Figure size 432x288 with 1 Axes>"
      ]
     },
     "metadata": {
      "needs_background": "light"
     },
     "output_type": "display_data"
    }
   ],
   "source": [
    "(top_airline_df.groupby('DEST').sum()['PASSENGERS']\n",
    "                                         .sort_values(ascending=False)).head(10).plot(kind='bar')"
   ]
  },
  {
   "cell_type": "code",
   "execution_count": 32,
   "metadata": {},
   "outputs": [
    {
     "data": {
      "text/plain": [
       "<matplotlib.axes._subplots.AxesSubplot at 0x1c1d653ef0>"
      ]
     },
     "execution_count": 32,
     "metadata": {},
     "output_type": "execute_result"
    },
    {
     "data": {
      "image/png": "[encoded data removed]",
      "text/plain": [
       "<Figure size 432x288 with 1 Axes>"
      ]
     },
     "metadata": {
      "needs_background": "light"
     },
     "output_type": "display_data"
    }
   ],
   "source": [
    "(top_airline_df.groupby('ORIGIN').sum()['FREIGHT']\n",
    "                                         .sort_values(ascending=False)).head(10).plot(kind='bar')"
   ]
  },
  {
   "cell_type": "code",
   "execution_count": 33,
   "metadata": {
    "scrolled": true
   },
   "outputs": [
    {
     "data": {
      "text/plain": [
       "<matplotlib.axes._subplots.AxesSubplot at 0x1c1e446128>"
      ]
     },
     "execution_count": 33,
     "metadata": {},
     "output_type": "execute_result"
    },
    {
     "data": {
      "image/png": "[encoded data removed]",
      "text/plain": [
       "<Figure size 432x288 with 1 Axes>"
      ]
     },
     "metadata": {
      "needs_background": "light"
     },
     "output_type": "display_data"
    }
   ],
   "source": [
    "(top_airline_df.groupby('DEST').sum()['FREIGHT']\n",
    "                                         .sort_values(ascending=False)).head(10).plot(kind='bar')"
   ]
  },
  {
   "cell_type": "code",
   "execution_count": 34,
   "metadata": {},
   "outputs": [
    {
     "data": {
      "text/plain": [
       "<matplotlib.axes._subplots.AxesSubplot at 0x1c1d6d3c50>"
      ]
     },
     "execution_count": 34,
     "metadata": {},
     "output_type": "execute_result"
    },
    {
     "data": {
      "image/png": "[encoded data removed]",
      "text/plain": [
       "<Figure size 432x288 with 1 Axes>"
      ]
     },
     "metadata": {
      "needs_background": "light"
     },
     "output_type": "display_data"
    }
   ],
   "source": [
    "(top_airline_df.groupby('ORIGIN').sum()['MAIL']\n",
    "                                         .sort_values(ascending=False)).head(10).plot(kind='bar')"
   ]
  },
  {
   "cell_type": "code",
   "execution_count": 35,
   "metadata": {},
   "outputs": [
    {
     "data": {
      "text/plain": [
       "<matplotlib.axes._subplots.AxesSubplot at 0x1c1e4c6240>"
      ]
     },
     "execution_count": 35,
     "metadata": {},
     "output_type": "execute_result"
    },
    {
     "data": {
      "image/png": "[encoded data removed]",
      "text/plain": [
       "<Figure size 432x288 with 1 Axes>"
      ]
     },
     "metadata": {
      "needs_background": "light"
     },
     "output_type": "display_data"
    }
   ],
   "source": [
    "(top_airline_df.groupby('DEST').sum()['MAIL']\n",
    "                                         .sort_values(ascending=False)).head(10).plot(kind='bar')"
   ]
  },
  {
   "cell_type": "code",
   "execution_count": 36,
   "metadata": {},
   "outputs": [
    {
     "data": {
      "text/plain": [
       "Index(['DEPARTURES_SCHEDULED', 'DEPARTURES_PERFORMED', 'PAYLOAD', 'SEATS',\n",
       "       'PASSENGERS', 'FREIGHT', 'MAIL', 'DISTANCE', 'RAMP_TO_RAMP', 'AIR_TIME',\n",
       "       'UNIQUE_CARRIER', 'AIRLINE_ID', 'UNIQUE_CARRIER_NAME',\n",
       "       'UNIQUE_CARRIER_ENTITY', 'REGION', 'CARRIER', 'CARRIER_NAME',\n",
       "       'CARRIER_GROUP', 'CARRIER_GROUP_NEW', 'ORIGIN_AIRPORT_ID',\n",
       "       'ORIGIN_AIRPORT_SEQ_ID', 'ORIGIN_CITY_MARKET_ID', 'ORIGIN',\n",
       "       'ORIGIN_CITY_NAME', 'ORIGIN_STATE_ABR', 'ORIGIN_STATE_FIPS',\n",
       "       'ORIGIN_STATE_NM', 'ORIGIN_WAC', 'DEST_AIRPORT_ID',\n",
       "       'DEST_AIRPORT_SEQ_ID', 'DEST_CITY_MARKET_ID', 'DEST', 'DEST_CITY_NAME',\n",
       "       'DEST_STATE_ABR', 'DEST_STATE_FIPS', 'DEST_STATE_NM', 'DEST_WAC',\n",
       "       'AIRCRAFT_GROUP', 'AIRCRAFT_TYPE', 'AIRCRAFT_CONFIG', 'YEAR', 'QUARTER',\n",
       "       'MONTH', 'DISTANCE_GROUP', 'CLASS'],\n",
       "      dtype='object')"
      ]
     },
     "execution_count": 36,
     "metadata": {},
     "output_type": "execute_result"
    }
   ],
   "source": [
    "df.columns"
   ]
  },
  {
   "cell_type": "code",
   "execution_count": 37,
   "metadata": {},
   "outputs": [],
   "source": [
    "data = df[['PAYLOAD','PASSENGERS','SEATS','FREIGHT','MAIL','YEAR','QUARTER','MONTH']]"
   ]
  },
  {
   "cell_type": "code",
   "execution_count": 38,
   "metadata": {},
   "outputs": [
    {
     "name": "stdout",
     "output_type": "stream",
     "text": [
      "<class 'pandas.core.frame.DataFrame'>\n",
      "Int64Index: 3620968 entries, 0 to 345003\n",
      "Data columns (total 8 columns):\n",
      "PAYLOAD       float64\n",
      "PASSENGERS    float64\n",
      "SEATS         float64\n",
      "FREIGHT       float64\n",
      "MAIL          float64\n",
      "YEAR          int64\n",
      "QUARTER       int64\n",
      "MONTH         int64\n",
      "dtypes: float64(5), int64(3)\n",
      "memory usage: 248.6 MB\n"
     ]
    }
   ],
   "source": [
    "data.info()"
   ]
  },
  {
   "cell_type": "code",
   "execution_count": 39,
   "metadata": {},
   "outputs": [
    {
     "name": "stderr",
     "output_type": "stream",
     "text": [
      "/Users/kessiezhang/anaconda3/lib/python3.7/site-packages/ipykernel_launcher.py:1: SettingWithCopyWarning: \n",
      "A value is trying to be set on a copy of a slice from a DataFrame.\n",
      "Try using .loc[row_indexer,col_indexer] = value instead\n",
      "\n",
      "See the caveats in the documentation: http://pandas.pydata.org/pandas-docs/stable/indexing.html#indexing-view-versus-copy\n",
      "  \"\"\"Entry point for launching an IPython kernel.\n"
     ]
    }
   ],
   "source": [
    "data['EMPTY_SEATS']=data['SEATS']-data['PASSENGERS']"
   ]
  },
  {
   "cell_type": "code",
   "execution_count": 40,
   "metadata": {},
   "outputs": [],
   "source": [
    "import datetime\n",
    "from datetime import date"
   ]
  },
  {
   "cell_type": "code",
   "execution_count": 41,
   "metadata": {},
   "outputs": [
    {
     "name": "stderr",
     "output_type": "stream",
     "text": [
      "/Users/kessiezhang/anaconda3/lib/python3.7/site-packages/ipykernel_launcher.py:1: SettingWithCopyWarning: \n",
      "A value is trying to be set on a copy of a slice from a DataFrame.\n",
      "Try using .loc[row_indexer,col_indexer] = value instead\n",
      "\n",
      "See the caveats in the documentation: http://pandas.pydata.org/pandas-docs/stable/indexing.html#indexing-view-versus-copy\n",
      "  \"\"\"Entry point for launching an IPython kernel.\n",
      "/Users/kessiezhang/anaconda3/lib/python3.7/site-packages/pandas/core/generic.py:5096: SettingWithCopyWarning: \n",
      "A value is trying to be set on a copy of a slice from a DataFrame.\n",
      "Try using .loc[row_indexer,col_indexer] = value instead\n",
      "\n",
      "See the caveats in the documentation: http://pandas.pydata.org/pandas-docs/stable/indexing.html#indexing-view-versus-copy\n",
      "  self[name] = value\n"
     ]
    }
   ],
   "source": [
    "data['DAY_PROXY'] = 1\n",
    "\n",
    "data.YEAR = data.YEAR.apply(str)\n",
    "data.MONTH = data.MONTH.apply(str)\n",
    "data.DAY_PROXY = data.DAY_PROXY.apply(str)"
   ]
  },
  {
   "cell_type": "code",
   "execution_count": 42,
   "metadata": {},
   "outputs": [
    {
     "name": "stdout",
     "output_type": "stream",
     "text": [
      "<class 'pandas.core.frame.DataFrame'>\n",
      "Int64Index: 3620968 entries, 0 to 345003\n",
      "Data columns (total 10 columns):\n",
      "PAYLOAD        float64\n",
      "PASSENGERS     float64\n",
      "SEATS          float64\n",
      "FREIGHT        float64\n",
      "MAIL           float64\n",
      "YEAR           object\n",
      "QUARTER        int64\n",
      "MONTH          object\n",
      "EMPTY_SEATS    float64\n",
      "DAY_PROXY      object\n",
      "dtypes: float64(6), int64(1), object(3)\n",
      "memory usage: 303.9+ MB\n"
     ]
    }
   ],
   "source": [
    "data.info()"
   ]
  },
  {
   "cell_type": "code",
   "execution_count": 43,
   "metadata": {},
   "outputs": [
    {
     "name": "stderr",
     "output_type": "stream",
     "text": [
      "/Users/kessiezhang/anaconda3/lib/python3.7/site-packages/ipykernel_launcher.py:1: SettingWithCopyWarning: \n",
      "A value is trying to be set on a copy of a slice from a DataFrame.\n",
      "Try using .loc[row_indexer,col_indexer] = value instead\n",
      "\n",
      "See the caveats in the documentation: http://pandas.pydata.org/pandas-docs/stable/indexing.html#indexing-view-versus-copy\n",
      "  \"\"\"Entry point for launching an IPython kernel.\n"
     ]
    }
   ],
   "source": [
    "data['DATE'] = data.MONTH + '/' + data.DAY_PROXY + '/' + data.YEAR"
   ]
  },
  {
   "cell_type": "code",
   "execution_count": 44,
   "metadata": {},
   "outputs": [
    {
     "data": {
      "text/html": [
       "<div>\n",
       "<style scoped>\n",
       "    .dataframe tbody tr th:only-of-type {\n",
       "        vertical-align: middle;\n",
       "    }\n",
       "\n",
       "    .dataframe tbody tr th {\n",
       "        vertical-align: top;\n",
       "    }\n",
       "\n",
       "    .dataframe thead th {\n",
       "        text-align: right;\n",
       "    }\n",
       "</style>\n",
       "<table border=\"1\" class=\"dataframe\">\n",
       "  <thead>\n",
       "    <tr style=\"text-align: right;\">\n",
       "      <th></th>\n",
       "      <th>PAYLOAD</th>\n",
       "      <th>PASSENGERS</th>\n",
       "      <th>SEATS</th>\n",
       "      <th>FREIGHT</th>\n",
       "      <th>MAIL</th>\n",
       "      <th>YEAR</th>\n",
       "      <th>QUARTER</th>\n",
       "      <th>MONTH</th>\n",
       "      <th>EMPTY_SEATS</th>\n",
       "      <th>DAY_PROXY</th>\n",
       "      <th>DATE</th>\n",
       "    </tr>\n",
       "  </thead>\n",
       "  <tbody>\n",
       "    <tr>\n",
       "      <th>0</th>\n",
       "      <td>38068.000</td>\n",
       "      <td>146.000</td>\n",
       "      <td>166.000</td>\n",
       "      <td>0.000</td>\n",
       "      <td>0.000</td>\n",
       "      <td>2019</td>\n",
       "      <td>3</td>\n",
       "      <td>8</td>\n",
       "      <td>20.000</td>\n",
       "      <td>1</td>\n",
       "      <td>8/1/2019</td>\n",
       "    </tr>\n",
       "    <tr>\n",
       "      <th>1</th>\n",
       "      <td>42071.000</td>\n",
       "      <td>150.000</td>\n",
       "      <td>166.000</td>\n",
       "      <td>0.000</td>\n",
       "      <td>0.000</td>\n",
       "      <td>2019</td>\n",
       "      <td>3</td>\n",
       "      <td>8</td>\n",
       "      <td>16.000</td>\n",
       "      <td>1</td>\n",
       "      <td>8/1/2019</td>\n",
       "    </tr>\n",
       "    <tr>\n",
       "      <th>2</th>\n",
       "      <td>43395.000</td>\n",
       "      <td>130.000</td>\n",
       "      <td>142.000</td>\n",
       "      <td>17.000</td>\n",
       "      <td>0.000</td>\n",
       "      <td>2019</td>\n",
       "      <td>3</td>\n",
       "      <td>8</td>\n",
       "      <td>12.000</td>\n",
       "      <td>1</td>\n",
       "      <td>8/1/2019</td>\n",
       "    </tr>\n",
       "    <tr>\n",
       "      <th>3</th>\n",
       "      <td>32849.000</td>\n",
       "      <td>147.000</td>\n",
       "      <td>150.000</td>\n",
       "      <td>0.000</td>\n",
       "      <td>0.000</td>\n",
       "      <td>2019</td>\n",
       "      <td>3</td>\n",
       "      <td>8</td>\n",
       "      <td>3.000</td>\n",
       "      <td>1</td>\n",
       "      <td>8/1/2019</td>\n",
       "    </tr>\n",
       "    <tr>\n",
       "      <th>4</th>\n",
       "      <td>48682.000</td>\n",
       "      <td>160.000</td>\n",
       "      <td>169.000</td>\n",
       "      <td>63.000</td>\n",
       "      <td>0.000</td>\n",
       "      <td>2019</td>\n",
       "      <td>3</td>\n",
       "      <td>8</td>\n",
       "      <td>9.000</td>\n",
       "      <td>1</td>\n",
       "      <td>8/1/2019</td>\n",
       "    </tr>\n",
       "  </tbody>\n",
       "</table>\n",
       "</div>"
      ],
      "text/plain": [
       "    PAYLOAD  PASSENGERS   SEATS  FREIGHT  MAIL  YEAR  QUARTER MONTH  \\\n",
       "0 38068.000     146.000 166.000    0.000 0.000  2019        3     8   \n",
       "1 42071.000     150.000 166.000    0.000 0.000  2019        3     8   \n",
       "2 43395.000     130.000 142.000   17.000 0.000  2019        3     8   \n",
       "3 32849.000     147.000 150.000    0.000 0.000  2019        3     8   \n",
       "4 48682.000     160.000 169.000   63.000 0.000  2019        3     8   \n",
       "\n",
       "   EMPTY_SEATS DAY_PROXY      DATE  \n",
       "0       20.000         1  8/1/2019  \n",
       "1       16.000         1  8/1/2019  \n",
       "2       12.000         1  8/1/2019  \n",
       "3        3.000         1  8/1/2019  \n",
       "4        9.000         1  8/1/2019  "
      ]
     },
     "execution_count": 44,
     "metadata": {},
     "output_type": "execute_result"
    }
   ],
   "source": [
    "data.head()"
   ]
  },
  {
   "cell_type": "code",
   "execution_count": 45,
   "metadata": {},
   "outputs": [
    {
     "name": "stderr",
     "output_type": "stream",
     "text": [
      "/Users/kessiezhang/anaconda3/lib/python3.7/site-packages/ipykernel_launcher.py:1: SettingWithCopyWarning: \n",
      "A value is trying to be set on a copy of a slice from a DataFrame.\n",
      "Try using .loc[row_indexer,col_indexer] = value instead\n",
      "\n",
      "See the caveats in the documentation: http://pandas.pydata.org/pandas-docs/stable/indexing.html#indexing-view-versus-copy\n",
      "  \"\"\"Entry point for launching an IPython kernel.\n"
     ]
    }
   ],
   "source": [
    "data['DATE'] = pd.to_datetime(data.DATE)"
   ]
  },
  {
   "cell_type": "code",
   "execution_count": 46,
   "metadata": {
    "scrolled": true
   },
   "outputs": [
    {
     "name": "stdout",
     "output_type": "stream",
     "text": [
      "<class 'pandas.core.frame.DataFrame'>\n",
      "Int64Index: 3620968 entries, 0 to 345003\n",
      "Data columns (total 11 columns):\n",
      "PAYLOAD        float64\n",
      "PASSENGERS     float64\n",
      "SEATS          float64\n",
      "FREIGHT        float64\n",
      "MAIL           float64\n",
      "YEAR           object\n",
      "QUARTER        int64\n",
      "MONTH          object\n",
      "EMPTY_SEATS    float64\n",
      "DAY_PROXY      object\n",
      "DATE           datetime64[ns]\n",
      "dtypes: datetime64[ns](1), float64(6), int64(1), object(3)\n",
      "memory usage: 331.5+ MB\n"
     ]
    }
   ],
   "source": [
    "data.info()"
   ]
  },
  {
   "cell_type": "code",
   "execution_count": 47,
   "metadata": {
    "scrolled": true
   },
   "outputs": [
    {
     "name": "stdout",
     "output_type": "stream",
     "text": [
      "<class 'pandas.core.frame.DataFrame'>\n",
      "DatetimeIndex: 120 entries, 2010-01-01 to 2019-12-01\n",
      "Data columns (total 7 columns):\n",
      "PAYLOAD        120 non-null float64\n",
      "PASSENGERS     120 non-null float64\n",
      "SEATS          120 non-null float64\n",
      "FREIGHT        120 non-null float64\n",
      "MAIL           120 non-null float64\n",
      "QUARTER        120 non-null int64\n",
      "EMPTY_SEATS    120 non-null float64\n",
      "dtypes: float64(6), int64(1)\n",
      "memory usage: 7.5 KB\n"
     ]
    }
   ],
   "source": [
    "tsdf = data.groupby('DATE').sum()\n",
    "tsdf.info()"
   ]
  },
  {
   "cell_type": "code",
   "execution_count": 48,
   "metadata": {},
   "outputs": [],
   "source": [
    "tsdf.drop('QUARTER',axis=1,inplace=True)"
   ]
  },
  {
   "cell_type": "code",
   "execution_count": 49,
   "metadata": {},
   "outputs": [
    {
     "name": "stdout",
     "output_type": "stream",
     "text": [
      "                   PAYLOAD   PASSENGERS        SEATS        FREIGHT  \\\n",
      "DATE                                                                  \n",
      "2010-01-01 20221230202.000 46717947.000 66617337.000 1582087091.000   \n",
      "2010-02-01 18231528323.000 43498396.000 59442504.000 1529047157.000   \n",
      "2010-03-01 21467739489.000 55804909.000 70673162.000 1764835211.000   \n",
      "2010-04-01 21025378093.000 53768509.000 68726880.000 1746444288.000   \n",
      "2010-05-01 21345539285.000 55184999.000 70321656.000 1714054671.000   \n",
      "2010-06-01 21594530054.000 58224298.000 71068668.000 1763624364.000   \n",
      "2010-07-01 22263158310.000 60780260.000 73719985.000 1758527183.000   \n",
      "2010-08-01 22199949061.000 58940421.000 73555947.000 1735955564.000   \n",
      "2010-09-01 20773704491.000 51621759.000 68116903.000 1766659172.000   \n",
      "2010-10-01 21553741439.000 56205888.000 70617110.000 1810424478.000   \n",
      "2010-11-01 20770366392.000 52712642.000 68019087.000 1693043200.000   \n",
      "2010-12-01 21643663670.000 52486676.000 68289115.000 1980105814.000   \n",
      "2011-01-01 20199628313.000 47591634.000 66330001.000 1557146288.000   \n",
      "2011-02-01 18648260766.000 44809973.000 60731548.000 1508886543.000   \n",
      "2011-03-01 22292883690.000 57080195.000 72794046.000 1852447775.000   \n",
      "2011-04-01 21199689309.000 54254568.000 69616762.000 1692904483.000   \n",
      "2011-05-01 21489567956.000 57455819.000 71416209.000 1623798351.000   \n",
      "2011-06-01 22014186298.000 59407419.000 72582765.000 1754400948.000   \n",
      "2011-07-01 22469594144.000 62011961.000 75032795.000 1638233113.000   \n",
      "2011-08-01 22159462984.000 59113216.000 73208556.000 1732576738.000   \n",
      "2011-09-01 20521035584.000 52525590.000 67531196.000 1696182068.000   \n",
      "2011-10-01 21136722616.000 55677342.000 69733311.000 1677774975.000   \n",
      "2011-11-01 20375347791.000 53033214.000 66425909.000 1689870933.000   \n",
      "2011-12-01 21619501497.000 52940683.000 68400937.000 1892465016.000   \n",
      "2012-01-01 19724131412.000 48377726.000 66062876.000 1520179755.000   \n",
      "2012-02-01 19071785245.000 47493112.000 63172829.000 1579335368.000   \n",
      "2012-03-01 21460790615.000 57506753.000 71481066.000 1774382641.000   \n",
      "2012-04-01 20468343454.000 54921346.000 68813060.000 1573052468.000   \n",
      "2012-05-01 21138267239.000 57058178.000 70568895.000 1737126792.000   \n",
      "2012-06-01 21281880972.000 59274006.000 71374697.000 1694956442.000   \n",
      "2012-07-01 21749134538.000 61133420.000 73704172.000 1594858934.000   \n",
      "2012-08-01 21733125328.000 60079504.000 72824921.000 1764820762.000   \n",
      "2012-09-01 19701558250.000 51335545.000 66275514.000 1634525220.000   \n",
      "2012-10-01 20443093554.000 54989919.000 68092267.000 1725853023.000   \n",
      "2012-11-01 20025152930.000 52909592.000 66278318.000 1750818791.000   \n",
      "2012-12-01 20520286034.000 52224670.000 66724979.000 1806480566.000   \n",
      "2013-01-01 19785291824.000 48838770.000 65623875.000 1689211660.000   \n",
      "2013-02-01 18218028780.000 46627400.000 60400831.000 1522604531.000   \n",
      "2013-03-01 21180734522.000 57683540.000 71123694.000 1706736684.000   \n",
      "2013-04-01 20465842095.000 54316618.000 68725678.000 1616301512.000   \n",
      "2013-05-01 21197451195.000 57745897.000 71092129.000 1730443392.000   \n",
      "2013-06-01 21082117845.000 59297822.000 71266866.000 1665241385.000   \n",
      "2013-07-01 21796129504.000 60770112.000 74065412.000 1658964318.000   \n",
      "2013-08-01 21839581235.000 59556972.000 73359780.000 1791208395.000   \n",
      "2013-09-01 19848379577.000 51976308.000 67173627.000 1615221968.000   \n",
      "2013-10-01 21239021976.000 55793416.000 70219591.000 1847132869.000   \n",
      "2013-11-01 19867844880.000 51597093.000 66472576.000 1673268224.000   \n",
      "2013-12-01 21106279424.000 55555348.000 67806707.000 1902359616.000   \n",
      "2014-01-01 19499896809.000 49105661.000 63903955.000 1696961154.000   \n",
      "2014-02-01 17902792088.000 46484277.000 58717095.000 1538129635.000   \n",
      "2014-03-01 21326819516.000 58915948.000 71322877.000 1716744675.000   \n",
      "2014-04-01 20954584040.000 56355277.000 68795126.000 1749910701.000   \n",
      "2014-05-01 21428502850.000 59072678.000 70633870.000 1758827017.000   \n",
      "2014-06-01 21540441320.000 60518822.000 71541653.000 1671016220.000   \n",
      "2014-07-01 22451319593.000 63022434.000 74361140.000 1785800077.000   \n",
      "2014-08-01 22009114784.000 61021087.000 73009017.000 1753032428.000   \n",
      "2014-09-01 20458823023.000 53609738.000 67590897.000 1672313463.000   \n",
      "2014-10-01 21690433320.000 58138123.000 71261354.000 1880803775.000   \n",
      "2014-11-01 20442969831.000 53452948.000 67645535.000 1717601836.000   \n",
      "2014-12-01 22145446774.000 56403868.000 69971416.000 2003757893.000   \n",
      "2015-01-01 20100525649.000 50620075.000 66894796.000 1700659132.000   \n",
      "2015-02-01 18393409839.000 47944267.000 60182760.000 1622174033.000   \n",
      "2015-03-01 21918820023.000 60527730.000 72879256.000 1752768802.000   \n",
      "2015-04-01 21757484726.000 58663381.000 71193965.000 1771527130.000   \n",
      "2015-05-01 22351697394.000 61264951.000 73359302.000 1730874336.000   \n",
      "2015-06-01 22583049724.000 62998042.000 74189757.000 1748753284.000   \n",
      "2015-07-01 23134945324.000 66236973.000 77567556.000 1808694407.000   \n",
      "2015-08-01 23175897417.000 63845956.000 76175837.000 1719492014.000   \n",
      "2015-09-01 21258859520.000 56878393.000 69878485.000 1813891537.000   \n",
      "2015-10-01 22227760417.000 61794544.000 73374326.000 1904237067.000   \n",
      "2015-11-01 21188396844.000 57999365.000 70709002.000 1714379046.000   \n",
      "2015-12-01 23339631761.000 58749492.000 72018866.000 2134128757.000   \n",
      "2016-01-01 20952673226.000 53250230.000 69067999.000 1690817765.000   \n",
      "2016-02-01 20254510011.000 51786086.000 66593065.000 1600356801.000   \n",
      "2016-03-01 23944247305.000 62383561.000 76033928.000 1918059330.000   \n",
      "2016-04-01 22581198664.000 59715139.000 73394647.000 1833499171.000   \n",
      "2016-05-01 22933989098.000 63827068.000 76736777.000 1775616793.000   \n",
      "2016-06-01 23397939581.000 65729548.000 77634726.000 1908568724.000   \n",
      "2016-07-01 23819001513.000 67146685.000 79721450.000 1799661083.000   \n",
      "2016-08-01 23900283724.000 64592344.000 79518133.000 1919901267.000   \n",
      "2016-09-01 22221921776.000 59484196.000 73538903.000 1914035356.000   \n",
      "2016-10-01 23069540309.000 62601986.000 76059673.000 1881727708.000   \n",
      "2016-11-01 22601408389.000 60129450.000 73461913.000 1932523437.000   \n",
      "2016-12-01 24645291218.000 60003855.000 74386227.000 2206759506.000   \n",
      "2017-01-01 21973682806.000 54891195.000 72399802.000 1771518671.000   \n",
      "2017-02-01 20192058502.000 51753362.000 66380991.000 1672655148.000   \n",
      "2017-03-01 24108661063.000 64809833.000 78531263.000 2039789205.000   \n",
      "2017-04-01 22925714655.000 61948463.000 75570565.000 1838209228.000   \n",
      "2017-05-01 23908418224.000 65341305.000 79130649.000 1957029982.000   \n",
      "2017-06-01 24327495921.000 67751425.000 80392273.000 2025338324.000   \n",
      "2017-07-01 25727045395.000 69631699.000 82893219.000 1877143415.000   \n",
      "2017-08-01 26207217727.000 67659797.000 82240339.000 2101172092.000   \n",
      "2017-09-01 23421467701.000 57992106.000 73279650.000 1985150436.000   \n",
      "2017-10-01 24288139856.000 65533208.000 78992486.000 2080022045.000   \n",
      "2017-11-01 24429216952.000 62752411.000 75493781.000 2156376133.000   \n",
      "2017-12-01 25129917964.000 62276302.000 76947712.000 2322641785.000   \n",
      "2018-01-01 22768320936.000 56584461.000 74686889.000 1955155670.000   \n",
      "2018-02-01 21135881508.000 54735457.000 69039895.000 1821861503.000   \n",
      "2018-03-01 24451212427.000 67431448.000 80823499.000 2110442024.000   \n",
      "2018-04-01 23914703636.000 65363908.000 79758562.000 1926302422.000   \n",
      "2018-05-01 25130426483.000 68854659.000 82746687.000 2127557333.000   \n",
      "2018-06-01 25106572813.000 71153255.000 83575831.000 2077044193.000   \n",
      "2018-07-01 25684269122.000 73419879.000 86235904.000 2012486802.000   \n",
      "2018-08-01 25870451707.000 71315947.000 85705734.000 2198034246.000   \n",
      "2018-09-01 23718689877.000 61184158.000 78236175.000 2053698222.000   \n",
      "2018-10-01 25537452709.000 67872165.000 82866863.000 2215485708.000   \n",
      "2018-11-01 24269153624.000 65413173.000 79274692.000 2163741807.000   \n",
      "2018-12-01 25454363945.000 64363721.000 80206321.000 2325078849.000   \n",
      "2019-01-01 23657399159.000 58667594.000 77540913.000 2075799402.000   \n",
      "2019-02-01 21625941212.000 56250607.000 71186822.000 1829084953.000   \n",
      "2019-03-01 25369013368.000 70925783.000 84571028.000 2116533504.000   \n",
      "2019-04-01 24379953382.000 67696442.000 81618854.000 2081885208.000   \n",
      "2019-05-01 25726085677.000 72160603.000 85237019.000 2218373285.000   \n",
      "2019-06-01 25571623858.000 73661690.000 85472384.000 2095641043.000   \n",
      "2019-07-01 26411744526.000 76138578.000 88660530.000 2140760956.000   \n",
      "2019-08-01 27509594905.000 73532658.000 88414706.000 2216545992.000   \n",
      "2019-09-01 24736287031.000 64699287.000 81226231.000 2012936706.000   \n",
      "2019-10-01 26804001582.000 70684521.000 86206317.000 2268804544.000   \n",
      "2019-11-01 25404917829.000 65507620.000 81905121.000 2155879133.000   \n",
      "2019-12-01 27521349349.000 70403859.000 84583213.000 2443772830.000   \n",
      "\n",
      "                    MAIL  EMPTY_SEATS  \n",
      "DATE                                   \n",
      "2010-01-01  80877028.000 19899390.000  \n",
      "2010-02-01  71246086.000 15944108.000  \n",
      "2010-03-01  81715979.000 14868253.000  \n",
      "2010-04-01  77466932.000 14958371.000  \n",
      "2010-05-01  72221966.000 15136657.000  \n",
      "2010-06-01  71437723.000 12844370.000  \n",
      "2010-07-01  71318375.000 12939725.000  \n",
      "2010-08-01  64935770.000 14615526.000  \n",
      "2010-09-01  71840204.000 16495144.000  \n",
      "2010-10-01  77855535.000 14411222.000  \n",
      "2010-11-01  75123157.000 15306445.000  \n",
      "2010-12-01  89156953.000 15802439.000  \n",
      "2011-01-01  81142887.000 18738367.000  \n",
      "2011-02-01  73713607.000 15921575.000  \n",
      "2011-03-01  85260580.000 15713851.000  \n",
      "2011-04-01  78932376.000 15362194.000  \n",
      "2011-05-01  73627396.000 13960390.000  \n",
      "2011-06-01  75991785.000 13175346.000  \n",
      "2011-07-01  71294424.000 13020834.000  \n",
      "2011-08-01  68772538.000 14095340.000  \n",
      "2011-09-01  70010909.000 15005606.000  \n",
      "2011-10-01  73131393.000 14055969.000  \n",
      "2011-11-01  76750776.000 13392695.000  \n",
      "2011-12-01  86547951.000 15460254.000  \n",
      "2012-01-01  77462704.000 17685150.000  \n",
      "2012-02-01  75100496.000 15679717.000  \n",
      "2012-03-01  79454514.000 13974313.000  \n",
      "2012-04-01  72966320.000 13891714.000  \n",
      "2012-05-01  75298690.000 13510717.000  \n",
      "2012-06-01  73513745.000 12100691.000  \n",
      "2012-07-01  71150011.000 12570752.000  \n",
      "2012-08-01  78320106.000 12745417.000  \n",
      "2012-09-01  70937371.000 14939969.000  \n",
      "2012-10-01  78686809.000 13102348.000  \n",
      "2012-11-01  73097612.000 13368726.000  \n",
      "2012-12-01  73538322.000 14500309.000  \n",
      "2013-01-01  76689309.000 16785105.000  \n",
      "2013-02-01  70957178.000 13773431.000  \n",
      "2013-03-01  79371750.000 13440154.000  \n",
      "2013-04-01  76997289.000 14409060.000  \n",
      "2013-05-01  76311090.000 13346232.000  \n",
      "2013-06-01  63791667.000 11969044.000  \n",
      "2013-07-01  70538430.000 13295300.000  \n",
      "2013-08-01  74676744.000 13802808.000  \n",
      "2013-09-01  70997267.000 15197319.000  \n",
      "2013-10-01  82803114.000 14426175.000  \n",
      "2013-11-01  77312242.000 14875483.000  \n",
      "2013-12-01  85720199.000 12251359.000  \n",
      "2014-01-01  80169693.000 14798294.000  \n",
      "2014-02-01  71437970.000 12232818.000  \n",
      "2014-03-01  79043111.000 12406929.000  \n",
      "2014-04-01  79029969.000 12439849.000  \n",
      "2014-05-01  77240958.000 11561192.000  \n",
      "2014-06-01  68819503.000 11022831.000  \n",
      "2014-07-01  77889355.000 11338706.000  \n",
      "2014-08-01  78732622.000 11987930.000  \n",
      "2014-09-01  74927579.000 13981159.000  \n",
      "2014-10-01  85984064.000 13123231.000  \n",
      "2014-11-01  78257523.000 14192587.000  \n",
      "2014-12-01  96483059.000 13567548.000  \n",
      "2015-01-01  88039298.000 16274721.000  \n",
      "2015-02-01  80070291.000 12238493.000  \n",
      "2015-03-01  92305482.000 12351526.000  \n",
      "2015-04-01  94867742.000 12530584.000  \n",
      "2015-05-01  91809941.000 12094351.000  \n",
      "2015-06-01  92170071.000 11191715.000  \n",
      "2015-07-01  96938351.000 11330583.000  \n",
      "2015-08-01  96422058.000 12329881.000  \n",
      "2015-09-01  92093087.000 13000092.000  \n",
      "2015-10-01 103731882.000 11579782.000  \n",
      "2015-11-01  84133183.000 12709637.000  \n",
      "2015-12-01 105895606.000 13269374.000  \n",
      "2016-01-01  91545597.000 15817769.000  \n",
      "2016-02-01  76848588.000 14806979.000  \n",
      "2016-03-01  76178126.000 13650367.000  \n",
      "2016-04-01  70318090.000 13679508.000  \n",
      "2016-05-01  71110038.000 12909709.000  \n",
      "2016-06-01  82926711.000 11905178.000  \n",
      "2016-07-01  86971339.000 12574765.000  \n",
      "2016-08-01  90854011.000 14925789.000  \n",
      "2016-09-01  89063186.000 14054707.000  \n",
      "2016-10-01  93876440.000 13457687.000  \n",
      "2016-11-01  94001818.000 13332463.000  \n",
      "2016-12-01 108586373.000 14382372.000  \n",
      "2017-01-01  92937602.000 17508607.000  \n",
      "2017-02-01  86722660.000 14627629.000  \n",
      "2017-03-01 103283729.000 13721430.000  \n",
      "2017-04-01  98383984.000 13622102.000  \n",
      "2017-05-01  99654151.000 13789344.000  \n",
      "2017-06-01 100218018.000 12640848.000  \n",
      "2017-07-01  98521722.000 13261520.000  \n",
      "2017-08-01 108305597.000 14580542.000  \n",
      "2017-09-01  95157482.000 15287544.000  \n",
      "2017-10-01 104234770.000 13459278.000  \n",
      "2017-11-01 100363598.000 12741370.000  \n",
      "2017-12-01 115630684.000 14671410.000  \n",
      "2018-01-01 104349002.000 18102428.000  \n",
      "2018-02-01  91587023.000 14304438.000  \n",
      "2018-03-01 104480720.000 13392051.000  \n",
      "2018-04-01  98839970.000 14394654.000  \n",
      "2018-05-01 102906573.000 13892028.000  \n",
      "2018-06-01  98212024.000 12422576.000  \n",
      "2018-07-01  96351797.000 12816025.000  \n",
      "2018-08-01 101467037.000 14389787.000  \n",
      "2018-09-01  92297229.000 17052017.000  \n",
      "2018-10-01  99538885.000 14994698.000  \n",
      "2018-11-01  92492650.000 13861519.000  \n",
      "2018-12-01 107807704.000 15842600.000  \n",
      "2019-01-01 101571742.000 18873319.000  \n",
      "2019-02-01  93918241.000 14936215.000  \n",
      "2019-03-01  93590305.000 13645245.000  \n",
      "2019-04-01  98549490.000 13922412.000  \n",
      "2019-05-01  98471036.000 13076416.000  \n",
      "2019-06-01  96158281.000 11810694.000  \n",
      "2019-07-01  96358997.000 12521952.000  \n",
      "2019-08-01  99026718.000 14882048.000  \n",
      "2019-09-01  90091415.000 16526944.000  \n",
      "2019-10-01 105649396.000 15521796.000  \n",
      "2019-11-01  94956873.000 16397501.000  \n",
      "2019-12-01 109808825.000 14179354.000  \n"
     ]
    }
   ],
   "source": [
    "with pd.option_context('display.max_rows', None, 'display.max_columns', None):  # more options can be specified also\n",
    "    print(tsdf)"
   ]
  },
  {
   "cell_type": "code",
   "execution_count": 52,
   "metadata": {},
   "outputs": [],
   "source": [
    "tsdf.to_pickle(\"./tsdata.pkl\")"
   ]
  },
  {
   "cell_type": "code",
   "execution_count": null,
   "metadata": {},
   "outputs": [],
   "source": []
  },
  {
   "cell_type": "code",
   "execution_count": 51,
   "metadata": {},
   "outputs": [
    {
     "data": {
      "image/png": "[encoded data removed]",
      "text/plain": [
       "<Figure size 432x288 with 1 Axes>"
      ]
     },
     "metadata": {
      "needs_background": "light"
     },
     "output_type": "display_data"
    }
   ],
   "source": [
    "tsdf.groupby('DATE').sum()['EMPTY_SEATS'].plot();"
   ]
  },
  {
   "cell_type": "code",
   "execution_count": null,
   "metadata": {},
   "outputs": [],
   "source": []
  }
 ],
 "metadata": {
  "kernelspec": {
   "display_name": "metis",
   "language": "python",
   "name": "metis"
  },
  "language_info": {
   "codemirror_mode": {
    "name": "ipython",
    "version": 3
   },
   "file_extension": ".py",
   "mimetype": "text/x-python",
   "name": "python",
   "nbconvert_exporter": "python",
   "pygments_lexer": "ipython3",
   "version": "3.7.3"
  }
 },
 "nbformat": 4,
 "nbformat_minor": 2
}
